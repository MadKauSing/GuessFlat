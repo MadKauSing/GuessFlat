{
 "cells": [
  {
   "cell_type": "code",
   "execution_count": null,
   "metadata": {},
   "outputs": [],
   "source": [
    "#IMPORTS put all here\n",
    "import random\n",
    "import matplotlib.pyplot as plt\n",
    "\n",
    "from datetime import datetime\n",
    "\n",
    "#tf imports for reading file\n",
    "import numpy as np\n",
    "import os\n",
    "import PIL\n",
    "\n",
    "\n",
    "import PIL.Image\n",
    "import tensorflow as tf\n",
    "import tensorflow_datasets as tfds\n",
    "\n",
    "from tensorflow.keras import layers\n",
    "\n",
    "from tensorflow.keras.models import Sequential\n",
    "from tensorflow.keras.layers import Conv2D, MaxPooling2D, Dense, Flatten, Dropout, BatchNormalization\n",
    "from tensorflow import keras\n",
    "\n",
    "\n",
    "from tensorflow.keras.regularizers import l2\n",
    "\n",
    "#extras\n",
    "print(tf.__version__)\n",
    "import pathlib\n",
    "import shutil"
   ]
  },
  {
   "cell_type": "code",
   "execution_count": null,
   "metadata": {},
   "outputs": [],
   "source": [
    "# # wandb\n",
    "# import wandb\n",
    "\n",
    "# wandb.init(project=\"GuessFlatKNN\")\n"
   ]
  },
  {
   "cell_type": "code",
   "execution_count": null,
   "metadata": {},
   "outputs": [],
   "source": []
  },
  {
   "cell_type": "code",
   "execution_count": null,
   "metadata": {},
   "outputs": [],
   "source": [
    "#path to image dataset\n",
    "spec_path = 'content/spectrograms6sec'\n",
    "\n",
    "genre_list=os.listdir(spec_path)\n",
    "genre_list\n"
   ]
  },
  {
   "cell_type": "code",
   "execution_count": null,
   "metadata": {},
   "outputs": [],
   "source": [
    "#resets the experiment\n",
    "#%rm -rf content/spectrograms6secnew"
   ]
  },
  {
   "cell_type": "code",
   "execution_count": null,
   "metadata": {},
   "outputs": [],
   "source": [
    "# os.mkdir('content/spectrograms6secnew')\n",
    "# dest_path='content/spectrograms6secnew'\n",
    "\n",
    "# for genre in genre_list:\n",
    "#   os.mkdir(f'content/spectrograms6secnew/{genre}')\n",
    "\n",
    "\n",
    "\n",
    "# #no of samples per class\n",
    "# n=3000\n",
    "# cnt=0\n",
    "\n",
    "# random.seed(123)\n",
    "\n",
    "# for genre in genre_list:\n",
    "#   genre_path=os.path.join(spec_path,genre)\n",
    "#   dest_genre_path=os.path.join(dest_path,genre)\n",
    "\n",
    "#   #shuffling and selecting 3000 samples\n",
    "#   genre_songs=os.listdir(genre_path)\n",
    "#   random.shuffle(genre_songs)\n",
    "#   selected_spec=genre_songs[:n]\n",
    "  \n",
    "#   for song in selected_spec:\n",
    "#       source=os.path.join(genre_path,song)\n",
    "#       dest=os.path.join(dest_genre_path,song)\n",
    "#       d= shutil.copyfile(source, dest)\n",
    "\n",
    "\n"
   ]
  },
  {
   "cell_type": "code",
   "execution_count": null,
   "metadata": {},
   "outputs": [],
   "source": []
  },
  {
   "cell_type": "code",
   "execution_count": null,
   "metadata": {},
   "outputs": [],
   "source": [
    "dest_path='content/spectrograms6secnew'\n",
    "data_dir=pathlib.Path(dest_path)\n",
    "data_dir"
   ]
  },
  {
   "cell_type": "code",
   "execution_count": null,
   "metadata": {},
   "outputs": [],
   "source": [
    "#adding dataset\n",
    "batch_size=64\n",
    "image_height=100\n",
    "image_width=200\n"
   ]
  },
  {
   "cell_type": "code",
   "execution_count": null,
   "metadata": {},
   "outputs": [],
   "source": [
    "train_ds = tf.keras.utils.image_dataset_from_directory(\n",
    "  data_dir,\n",
    "  validation_split=0.2,\n",
    "  subset=\"training\",\n",
    "  seed=123,\n",
    "  image_size=(image_height, image_width),\n",
    "  batch_size=batch_size)"
   ]
  },
  {
   "cell_type": "code",
   "execution_count": null,
   "metadata": {},
   "outputs": [],
   "source": [
    "val_ds = tf.keras.utils.image_dataset_from_directory(\n",
    "  data_dir,\n",
    "  validation_split=0.2,\n",
    "  subset=\"validation\",\n",
    "  seed=123,\n",
    "  image_size=(image_height, image_width),\n",
    "  batch_size=batch_size)\n"
   ]
  },
  {
   "cell_type": "code",
   "execution_count": null,
   "metadata": {},
   "outputs": [],
   "source": [
    "class_names = train_ds.class_names\n",
    "print(class_names)\n",
    "\n",
    "import matplotlib.pyplot as plt\n",
    "\n",
    "plt.figure(figsize=(45, 15))\n",
    "for images, labels in train_ds.take(1):\n",
    "  for i in range(9):\n",
    "    ax = plt.subplot(3, 3, i + 1)\n",
    "    plt.imshow(images[i].numpy().astype(\"uint8\"))\n",
    "    plt.title(class_names[labels[i]])\n",
    "    plt.axis(\"off\")\n"
   ]
  },
  {
   "cell_type": "code",
   "execution_count": null,
   "metadata": {},
   "outputs": [],
   "source": [
    "for image_batch, labels_batch in train_ds:\n",
    "  print(image_batch.shape)\n",
    "  print(labels_batch.shape)\n",
    "  break"
   ]
  },
  {
   "cell_type": "code",
   "execution_count": null,
   "metadata": {},
   "outputs": [],
   "source": [
    "normalization_layer = tf.keras.layers.Rescaling(1./255)\n",
    "normalized_ds = train_ds.map(lambda x, y: (normalization_layer(x), y))\n",
    "image_batch, labels_batch = next(iter(normalized_ds))\n",
    "first_image = image_batch[0]\n",
    "# Notice the pixel values are now in `[0,1]`.\n",
    "print(np.min(first_image), np.max(first_image))"
   ]
  },
  {
   "cell_type": "code",
   "execution_count": null,
   "metadata": {},
   "outputs": [],
   "source": [
    "AUTOTUNE = tf.data.AUTOTUNE\n",
    "\n",
    "train_ds = train_ds.cache().prefetch(buffer_size=AUTOTUNE)\n",
    "val_ds = val_ds.cache().prefetch(buffer_size=AUTOTUNE)"
   ]
  },
  {
   "cell_type": "code",
   "execution_count": null,
   "metadata": {},
   "outputs": [],
   "source": [
    "%load_ext tensorboard"
   ]
  },
  {
   "cell_type": "markdown",
   "metadata": {},
   "source": [
    "https://www.analyticsvidhya.com/blog/2021/06/build-an-image-classifier-with-svm/"
   ]
  },
  {
   "cell_type": "code",
   "execution_count": null,
   "metadata": {},
   "outputs": [],
   "source": [
    "num_classes = len(class_names)\n",
    "model = Sequential([\n",
    "  layers.Rescaling(1./255, input_shape=(image_height, image_width, 3)),\n",
    "  layers.Conv2D(32, 4, padding='same', activation='relu'),\n",
    "  layers.MaxPooling2D(),\n",
    "  layers.Conv2D(32, 4, padding='same', activation='relu'),\n",
    "  layers.MaxPooling2D(),\n",
    "  # layers.Conv2D(32, 3, padding='same', activation='relu'),\n",
    "  # layers.MaxPooling2D(),\n",
    "  \n",
    "  layers.Flatten(),\n",
    "  layers.Dense(128, activation='relu'),\n",
    "  layers.Dense(num_classes,kernel_regularizer=l2(0.1),activation = \"linear\")\n",
    "])\n",
    "\n",
    "model.compile(optimizer='adam',\n",
    "              loss=tf.keras.losses.SparseCategoricalCrossentropy(from_logits=True),\n",
    "              metrics=['accuracy'])\n",
    "\n",
    "model.summary()\n",
    "\n",
    "epochs=10\n",
    "\n",
    "logdir = \"logs/scalars/\" + datetime.now().strftime(\"%Y%m%d-%H%M%S\")\n",
    "tensorboard_callback = keras.callbacks.TensorBoard(log_dir=logdir)\n",
    "\n",
    "history = model.fit(\n",
    "    train_ds,\n",
    "    validation_data=val_ds,\n",
    "    epochs=epochs,\n",
    "    verbose=1,\n",
    "    callbacks=[tensorboard_callback],\n",
    "    )\n",
    "    "
   ]
  },
  {
   "cell_type": "code",
   "execution_count": null,
   "metadata": {},
   "outputs": [],
   "source": [
    "num_classes = len(class_names)\n",
    "model = Sequential([\n",
    "  layers.Rescaling(1./255, input_shape=(image_height, image_width, 3)),\n",
    "  layers.Conv2D(32, 5, padding='same', activation='relu'),\n",
    "  layers.MaxPooling2D(),\n",
    "  layers.Conv2D(32, 5, padding='same', activation='relu'),\n",
    "  layers.MaxPooling2D(),\n",
    "  # layers.Conv2D(32, 3, padding='same', activation='relu'),\n",
    "  # layers.MaxPooling2D(),\n",
    "  \n",
    "  layers.Flatten(),\n",
    "  layers.Dense(128, activation='relu'),\n",
    "  layers.Dense(num_classes,kernel_regularizer=l2(0.1),activation = \"linear\")\n",
    "])\n",
    "\n",
    "model.compile(optimizer='adam',\n",
    "              loss=tf.keras.losses.SparseCategoricalCrossentropy(from_logits=True),\n",
    "              metrics=['accuracy'])\n",
    "\n",
    "model.summary()\n",
    "\n",
    "epochs=10\n",
    "\n",
    "logdir = \"logs/scalars/\" + datetime.now().strftime(\"%Y%m%d-%H%M%S\")\n",
    "tensorboard_callback = keras.callbacks.TensorBoard(log_dir=logdir)\n",
    "\n",
    "history = model.fit(\n",
    "    train_ds,\n",
    "    validation_data=val_ds,\n",
    "    epochs=epochs,\n",
    "    verbose=1,\n",
    "    callbacks=[tensorboard_callback],\n",
    "    )\n",
    "    "
   ]
  },
  {
   "cell_type": "code",
   "execution_count": 18,
   "metadata": {},
   "outputs": [
    {
     "name": "stdout",
     "output_type": "stream",
     "text": [
      "375/375 [==============================] - 130s 348ms/step - loss: 1.0213 - accuracy: 0.6671 - val_loss: 1.2272 - val_accuracy: 0.5960\n",
      "Epoch 7/10\n",
      "375/375 [==============================] - 130s 346ms/step - loss: 0.9530 - accuracy: 0.6930 - val_loss: 1.1979 - val_accuracy: 0.6082\n",
      "Epoch 8/10\n",
      "375/375 [==============================] - 129s 345ms/step - loss: 0.8891 - accuracy: 0.7178 - val_loss: 1.1744 - val_accuracy: 0.6175\n",
      "Epoch 9/10\n",
      "375/375 [==============================] - 128s 342ms/step - loss: 0.8314 - accuracy: 0.7389 - val_loss: 1.1574 - val_accuracy: 0.6210\n",
      "Epoch 10/10\n",
      "375/375 [==============================] - 130s 346ms/step - loss: 0.7752 - accuracy: 0.7594 - val_loss: 1.1902 - val_accuracy: 0.6160\n"
     ]
    }
   ],
   "source": [
    "num_classes = len(class_names)\n",
    "model = Sequential([\n",
    "  layers.Rescaling(1./255, input_shape=(image_height, image_width, 3)),\n",
    "  layers.Conv2D(32, 2, padding='same', activation='relu'),\n",
    "  layers.MaxPooling2D(),\n",
    "  layers.Conv2D(32, 2, padding='same', activation='relu'),\n",
    "  layers.MaxPooling2D(),\n",
    "  # layers.Conv2D(32, 3, padding='same', activation='relu'),\n",
    "  # layers.MaxPooling2D(),\n",
    "  \n",
    "  layers.Flatten(),\n",
    "  layers.Dense(128, activation='relu'),\n",
    "  layers.Dense(num_classes,kernel_regularizer=l2(0.1),activation = \"linear\")\n",
    "])\n",
    "\n",
    "model.compile(optimizer='adam',\n",
    "              loss=tf.keras.losses.SparseCategoricalCrossentropy(from_logits=True),\n",
    "              metrics=['accuracy'])\n",
    "\n",
    "model.summary()\n",
    "\n",
    "epochs=10\n",
    "\n",
    "logdir = \"logs/scalars/\" + datetime.now().strftime(\"%Y%m%d-%H%M%S\")\n",
    "tensorboard_callback = keras.callbacks.TensorBoard(log_dir=logdir)\n",
    "\n",
    "history = model.fit(\n",
    "    train_ds,\n",
    "    validation_data=val_ds,\n",
    "    epochs=epochs,\n",
    "    verbose=1,\n",
    "    callbacks=[tensorboard_callback],\n",
    ")\n",
    "    "
   ]
  },
  {
   "cell_type": "code",
   "execution_count": 19,
   "metadata": {},
   "outputs": [
    {
     "name": "stdout",
     "output_type": "stream",
     "text": [
      "Model: \"sequential_3\"\n",
      "_________________________________________________________________\n",
      " Layer (type)                Output Shape              Param #   \n",
      "=================================================================\n",
      " rescaling_4 (Rescaling)     (None, 100, 200, 3)       0         \n",
      "                                                                 \n",
      " conv2d_6 (Conv2D)           (None, 100, 200, 32)      896       \n",
      "                                                                 \n",
      " max_pooling2d_6 (MaxPooling  (None, 50, 100, 32)      0         \n",
      " 2D)                                                             \n",
      "                                                                 \n",
      " conv2d_7 (Conv2D)           (None, 50, 100, 32)       9248      \n",
      "                                                                 \n",
      " max_pooling2d_7 (MaxPooling  (None, 25, 50, 32)       0         \n",
      " 2D)                                                             \n",
      "                                                                 \n",
      " flatten_3 (Flatten)         (None, 40000)             0         \n",
      "                                                                 \n",
      " dense_6 (Dense)             (None, 128)               5120128   \n",
      "                                                                 \n",
      " dense_7 (Dense)             (None, 10)                1290      \n",
      "                                                                 \n",
      "=================================================================\n",
      "Total params: 5,131,562\n",
      "Trainable params: 5,131,562\n",
      "Non-trainable params: 0\n",
      "_________________________________________________________________\n",
      "Epoch 1/10\n",
      "375/375 [==============================] - 165s 440ms/step - loss: 2.3140 - accuracy: 0.3475 - val_loss: 1.6593 - val_accuracy: 0.4718\n",
      "Epoch 2/10\n",
      "375/375 [==============================] - 163s 436ms/step - loss: 1.4946 - accuracy: 0.5107 - val_loss: 1.3629 - val_accuracy: 0.5545\n",
      "Epoch 3/10\n",
      "375/375 [==============================] - 160s 427ms/step - loss: 1.2736 - accuracy: 0.5785 - val_loss: 1.2298 - val_accuracy: 0.5938\n",
      "Epoch 4/10\n",
      "375/375 [==============================] - 162s 433ms/step - loss: 1.1433 - accuracy: 0.6229 - val_loss: 1.1972 - val_accuracy: 0.6067\n",
      "Epoch 5/10\n",
      "375/375 [==============================] - 163s 434ms/step - loss: 1.0390 - accuracy: 0.6613 - val_loss: 1.1610 - val_accuracy: 0.6140\n",
      "Epoch 6/10\n",
      "375/375 [==============================] - 162s 432ms/step - loss: 0.9408 - accuracy: 0.6977 - val_loss: 1.1187 - val_accuracy: 0.6303\n",
      "Epoch 7/10\n",
      "375/375 [==============================] - 162s 433ms/step - loss: 0.8470 - accuracy: 0.7305 - val_loss: 1.1373 - val_accuracy: 0.6340\n",
      "Epoch 8/10\n",
      "375/375 [==============================] - 160s 428ms/step - loss: 0.7560 - accuracy: 0.7655 - val_loss: 1.1566 - val_accuracy: 0.6292\n",
      "Epoch 9/10\n",
      "375/375 [==============================] - 162s 433ms/step - loss: 0.6723 - accuracy: 0.7979 - val_loss: 1.1869 - val_accuracy: 0.6270\n",
      "Epoch 10/10\n",
      "375/375 [==============================] - 162s 433ms/step - loss: 0.6020 - accuracy: 0.8231 - val_loss: 1.1656 - val_accuracy: 0.6437\n"
     ]
    }
   ],
   "source": [
    "num_classes = len(class_names)\n",
    "model = Sequential([\n",
    "  layers.Rescaling(1./255, input_shape=(image_height, image_width, 3)),\n",
    "  layers.Conv2D(32, 3, padding='same', activation='relu'),\n",
    "  layers.MaxPooling2D(),\n",
    "  layers.Conv2D(32, 3, padding='same', activation='relu'),\n",
    "  layers.MaxPooling2D(),\n",
    "  # layers.Conv2D(32, 3, padding='same', activation='relu'),\n",
    "  # layers.MaxPooling2D(),\n",
    "  \n",
    "  layers.Flatten(),\n",
    "  layers.Dense(128, activation='relu'),\n",
    "  layers.Dense(num_classes,kernel_regularizer=l2(0.1),activation = \"linear\")\n",
    "])\n",
    "\n",
    "model.compile(optimizer='adam',\n",
    "              loss=tf.keras.losses.SparseCategoricalCrossentropy(from_logits=True),\n",
    "              metrics=['accuracy'])\n",
    "\n",
    "model.summary()\n",
    "\n",
    "epochs=10\n",
    "\n",
    "logdir = \"logs/scalars/\" + datetime.now().strftime(\"%Y%m%d-%H%M%S\")\n",
    "tensorboard_callback = keras.callbacks.TensorBoard(log_dir=logdir)\n",
    "\n",
    "history = model.fit(\n",
    "    train_ds,\n",
    "    validation_data=val_ds,\n",
    "    epochs=epochs,\n",
    "    verbose=1,\n",
    "    callbacks=[tensorboard_callback],\n",
    "    )\n",
    "    "
   ]
  },
  {
   "cell_type": "code",
   "execution_count": 20,
   "metadata": {},
   "outputs": [
    {
     "name": "stdout",
     "output_type": "stream",
     "text": [
      "Model: \"sequential_4\"\n",
      "_________________________________________________________________\n",
      " Layer (type)                Output Shape              Param #   \n",
      "=================================================================\n",
      " rescaling_5 (Rescaling)     (None, 100, 200, 3)       0         \n",
      "                                                                 \n",
      " conv2d_8 (Conv2D)           (None, 100, 200, 32)      128       \n",
      "                                                                 \n",
      " max_pooling2d_8 (MaxPooling  (None, 50, 100, 32)      0         \n",
      " 2D)                                                             \n",
      "                                                                 \n",
      " conv2d_9 (Conv2D)           (None, 50, 100, 32)       1056      \n",
      "                                                                 \n",
      " max_pooling2d_9 (MaxPooling  (None, 25, 50, 32)       0         \n",
      " 2D)                                                             \n",
      "                                                                 \n",
      " flatten_4 (Flatten)         (None, 40000)             0         \n",
      "                                                                 \n",
      " dense_8 (Dense)             (None, 128)               5120128   \n",
      "                                                                 \n",
      " dense_9 (Dense)             (None, 10)                1290      \n",
      "                                                                 \n",
      "=================================================================\n",
      "Total params: 5,122,602\n",
      "Trainable params: 5,122,602\n",
      "Non-trainable params: 0\n",
      "_________________________________________________________________\n",
      "Epoch 1/10\n",
      "375/375 [==============================] - 113s 301ms/step - loss: 2.6869 - accuracy: 0.0962 - val_loss: 2.3166 - val_accuracy: 0.0932\n",
      "Epoch 2/10\n",
      "375/375 [==============================] - 112s 299ms/step - loss: 2.3065 - accuracy: 0.0989 - val_loss: 2.3033 - val_accuracy: 0.0932\n",
      "Epoch 3/10\n",
      "375/375 [==============================] - 113s 301ms/step - loss: 2.3028 - accuracy: 0.0987 - val_loss: 2.3030 - val_accuracy: 0.0932\n",
      "Epoch 4/10\n",
      "375/375 [==============================] - 114s 305ms/step - loss: 2.3027 - accuracy: 0.0984 - val_loss: 2.3030 - val_accuracy: 0.0932\n",
      "Epoch 5/10\n",
      "375/375 [==============================] - 114s 303ms/step - loss: 2.3027 - accuracy: 0.0986 - val_loss: 2.3030 - val_accuracy: 0.0932\n",
      "Epoch 6/10\n",
      "375/375 [==============================] - 113s 300ms/step - loss: 2.3027 - accuracy: 0.0986 - val_loss: 2.3030 - val_accuracy: 0.0932\n",
      "Epoch 7/10\n",
      "375/375 [==============================] - 112s 300ms/step - loss: 2.3027 - accuracy: 0.0986 - val_loss: 2.3030 - val_accuracy: 0.0932\n",
      "Epoch 8/10\n",
      "375/375 [==============================] - 113s 302ms/step - loss: 2.3027 - accuracy: 0.0986 - val_loss: 2.3030 - val_accuracy: 0.0932\n",
      "Epoch 9/10\n",
      "375/375 [==============================] - 112s 300ms/step - loss: 2.3027 - accuracy: 0.0986 - val_loss: 2.3030 - val_accuracy: 0.0932\n",
      "Epoch 10/10\n",
      "375/375 [==============================] - 112s 300ms/step - loss: 2.3027 - accuracy: 0.0986 - val_loss: 2.3030 - val_accuracy: 0.0932\n"
     ]
    }
   ],
   "source": [
    "num_classes = len(class_names)\n",
    "model = Sequential([\n",
    "  layers.Rescaling(1./255, input_shape=(image_height, image_width, 3)),\n",
    "  layers.Conv2D(32, 1, padding='same', activation='relu'),\n",
    "  layers.MaxPooling2D(),\n",
    "  layers.Conv2D(32, 1, padding='same', activation='relu'),\n",
    "  layers.MaxPooling2D(),\n",
    "  # layers.Conv2D(32, 3, padding='same', activation='relu'),\n",
    "  # layers.MaxPooling2D(),\n",
    "  \n",
    "  layers.Flatten(),\n",
    "  layers.Dense(128, activation='relu'),\n",
    "  layers.Dense(num_classes,kernel_regularizer=l2(0.1),activation = \"linear\")\n",
    "])\n",
    "\n",
    "model.compile(optimizer='adam',\n",
    "              loss=tf.keras.losses.SparseCategoricalCrossentropy(from_logits=True),\n",
    "              metrics=['accuracy'])\n",
    "\n",
    "model.summary()\n",
    "\n",
    "epochs=10\n",
    "\n",
    "logdir = \"logs/scalars/\" + datetime.now().strftime(\"%Y%m%d-%H%M%S\")\n",
    "tensorboard_callback = keras.callbacks.TensorBoard(log_dir=logdir)\n",
    "\n",
    "history = model.fit(\n",
    "    train_ds,\n",
    "    validation_data=val_ds,\n",
    "    epochs=epochs,\n",
    "    verbose=1,\n",
    "    callbacks=[tensorboard_callback],\n",
    "    )\n",
    "    "
   ]
  },
  {
   "cell_type": "markdown",
   "metadata": {},
   "source": [
    "# l2(0.1) best regularization\n",
    "# 3 best filter"
   ]
  },
  {
   "cell_type": "code",
   "execution_count": 21,
   "metadata": {},
   "outputs": [
    {
     "data": {
      "text/html": [
       "\n",
       "      <iframe id=\"tensorboard-frame-b4b933afad8cc26d\" width=\"100%\" height=\"800\" frameborder=\"0\">\n",
       "      </iframe>\n",
       "      <script>\n",
       "        (function() {\n",
       "          const frame = document.getElementById(\"tensorboard-frame-b4b933afad8cc26d\");\n",
       "          const url = new URL(\"/\", window.location);\n",
       "          const port = 6012;\n",
       "          if (port) {\n",
       "            url.port = port;\n",
       "          }\n",
       "          frame.src = url;\n",
       "        })();\n",
       "      </script>\n",
       "    "
      ],
      "text/plain": [
       "<IPython.core.display.HTML object>"
      ]
     },
     "metadata": {},
     "output_type": "display_data"
    }
   ],
   "source": [
    "%tensorboard --logdir logs/scalars"
   ]
  },
  {
   "cell_type": "code",
   "execution_count": null,
   "metadata": {},
   "outputs": [],
   "source": [
    "print(tf.summary)"
   ]
  },
  {
   "cell_type": "code",
   "execution_count": null,
   "metadata": {},
   "outputs": [],
   "source": []
  },
  {
   "cell_type": "code",
   "execution_count": null,
   "metadata": {},
   "outputs": [],
   "source": []
  }
 ],
 "metadata": {
  "kernelspec": {
   "display_name": "Python 3.7.13 ('ai_ml_nn')",
   "language": "python",
   "name": "python3"
  },
  "language_info": {
   "codemirror_mode": {
    "name": "ipython",
    "version": 3
   },
   "file_extension": ".py",
   "mimetype": "text/x-python",
   "name": "python",
   "nbconvert_exporter": "python",
   "pygments_lexer": "ipython3",
   "version": "3.7.13"
  },
  "orig_nbformat": 4,
  "vscode": {
   "interpreter": {
    "hash": "75f149aabefc45f596bad3ecd1cce999665dc47c609d2b6ed1c0c06088326543"
   }
  }
 },
 "nbformat": 4,
 "nbformat_minor": 2
}
