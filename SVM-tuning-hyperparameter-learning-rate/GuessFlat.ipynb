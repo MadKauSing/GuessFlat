{
  "nbformat": 4,
  "nbformat_minor": 0,
  "metadata": {
    "colab": {
      "provenance": [],
      "collapsed_sections": [],
      "private_outputs": true,
      "include_colab_link": true
    },
    "kernelspec": {
      "name": "python3",
      "display_name": "Python 3"
    },
    "language_info": {
      "name": "python"
    },
    "accelerator": "TPU"
  },
  "cells": [
    {
      "cell_type": "markdown",
      "metadata": {
        "id": "view-in-github",
        "colab_type": "text"
      },
      "source": [
        "<a href=\"https://colab.research.google.com/github/MadKauSing/GuessFlat/blob/main/GuessFlat.ipynb\" target=\"_parent\"><img src=\"https://colab.research.google.com/assets/colab-badge.svg\" alt=\"Open In Colab\"/></a>"
      ]
    },
    {
      "cell_type": "markdown",
      "source": [
        "# MADKAUSING GUESSFLAT\n",
        "```\n",
        "Ayush Singh          -PES2UG20C0S81\n",
        "Ayushmaan Kaushik    -PES2UG20CS082\n",
        "Bhavini Madhuranath  -PES2UG20CS088\n",
        "```\n",
        "\n",
        "### An indian music genre classifier\n"
      ],
      "metadata": {
        "id": "pEW9vw8ORTNQ"
      }
    },
    {
      "cell_type": "markdown",
      "source": [
        "# some exectued code we dont require\n",
        "```\n",
        "#linking google drive\n",
        "from google.colab import drive\n",
        "drive.mount('/content/drive')\n",
        "\n",
        "\n",
        "import os\n",
        "import pandas as pd\n",
        "import matplotlib\n",
        "import librosa\n",
        "import soundfile as sf\n",
        "import matplotlib.pyplot as plt\n",
        "import numpy as np\n",
        "import librosa.display\n",
        "\n",
        "os.getcwd()\n",
        "\n",
        "\n",
        "moozyc_path='/content/drive/MyDrive/moozyc'\n",
        "genre_list=os.listdir(moozyc_path)\n",
        "#genre_list\n",
        "\n",
        "\n",
        "data=[]\n",
        "for genre in genre_list:\n",
        "  genre_path='/'+genre\n",
        "  music_files=os.listdir(moozyc_path+genre_path)\n",
        "  music_files=[i  for i in music_files if i!='.spotdl-cache']\n",
        "  \n",
        "  #add each song to pandas df\n",
        "  for song in music_files:\n",
        "    song_path=moozyc_path+genre_path+'/'+song\n",
        "    data.append([song_path,song,genre])\n",
        "\n",
        "#creating pandas dataframe\n",
        "song_df=pd.DataFrame(data,columns=['file_path','song','genre'])\n",
        "song_df\n",
        "\n",
        "\n",
        "%rm -rf /content/spectrograms6sec\n",
        "\n",
        "os.mkdir('/content/spectrograms6sec')\n",
        "for genre in genre_list:\n",
        "  os.mkdir(f'/content/spectrograms6sec/{genre}')\n",
        "\n",
        "#making spectrograms save in file\n",
        "def save_spectrogram(block,sr,genre,song_name,counter):\n",
        "  matplotlib.use('Agg')\n",
        "  S = librosa.feature.melspectrogram(y=block, sr=sr, n_mels=128,fmax=8000)\n",
        "  plt.figure(figsize=(6, 3))\n",
        "  librosa.display.specshow(librosa.power_to_db(S,ref=np.max),y_axis='mel', fmax=8000,x_axis='time')\n",
        "  # plt.plot()\n",
        "  song_name=song_name.replace('.mp3','')\n",
        "  file_name=f'/content/spectrograms6sec/{genre}/'+song_name+str(counter)+'.png'\n",
        "  plt.savefig(file_name)\n",
        "\n",
        "\n",
        "def preprocess(file_name,song_name,genre):\n",
        "  # First load the file\n",
        "  audio, sr = librosa.load(file_name)\n",
        "  filename = file_name.replace(\".mp3\",\".wav\")\n",
        "\n",
        "  # Get number of samples for 6 seconds; replace 2 by any number\n",
        "  buffer = 6 * sr\n",
        "\n",
        "  samples_total = len(audio)\n",
        "  samples_wrote = 0\n",
        "  counter = 1\n",
        "\n",
        "  while samples_wrote < samples_total:\n",
        "      \n",
        "      #check if the buffer is not exceeding total samples \n",
        "      if buffer > (samples_total - samples_wrote):\n",
        "          buffer = samples_total - samples_wrote\n",
        "\n",
        "      block = audio[samples_wrote : (samples_wrote + buffer)]\n",
        "      out_filename = \"split_\" + str(counter) + \"_\" + filename\n",
        "\n",
        "      # Write 2 second segment\n",
        "      save_spectrogram(block,sr,genre,song_name,counter)\n",
        "      # sf.write('1.wav', block, sr, 'PCM_24')\n",
        "      counter += 1\n",
        "      samples_wrote += buffer\n",
        "      \n",
        "  \n",
        "    for index,row in song_df.iterrows():\n",
        "  preprocess(row[\"file_path\"],row[\"song\"],row[\"genre\"])\n",
        "  print(f\"{row['song']} done\")\n",
        "\n",
        "```"
      ],
      "metadata": {
        "id": "_xjSp1B5NchF"
      }
    },
    {
      "cell_type": "code",
      "source": [
        "#IMPORTS put all here\n",
        "import random\n",
        "\n",
        "#tf imports for reading file\n",
        "import numpy as np\n",
        "import os\n",
        "import PIL\n",
        "\n",
        "import PIL.Image\n",
        "import tensorflow as tf\n",
        "import tensorflow_datasets as tfds\n",
        "\n",
        "#extras\n",
        "print(tf.__version__)"
      ],
      "metadata": {
        "id": "fIaXghtmXLeW"
      },
      "execution_count": null,
      "outputs": []
    },
    {
      "cell_type": "code",
      "source": [
        "!pip install alive_progress"
      ],
      "metadata": {
        "id": "CI35GVWtoETH"
      },
      "execution_count": null,
      "outputs": []
    },
    {
      "cell_type": "code",
      "source": [
        "#A5 stuff dont touch\n",
        "from google.colab import drive\n",
        "from alive_progress import alive_bar\n",
        "\n",
        "drive.mount('/content/drive',force_remount=True)\n",
        "\n",
        "spec_path = '/content/drive/MyDrive/spectrograms6sec'\n",
        "\n",
        "genre_list=os.listdir(spec_path)\n",
        "genre_list"
      ],
      "metadata": {
        "id": "d6AchxktOSgP"
      },
      "execution_count": null,
      "outputs": []
    },
    {
      "cell_type": "code",
      "source": [
        "%rm -rf /content/spectrograms6sec"
      ],
      "metadata": {
        "id": "5xKAdxX0gk-i"
      },
      "execution_count": null,
      "outputs": []
    },
    {
      "cell_type": "code",
      "source": [
        "os.mkdir('/content/spectrograms6sec')\n",
        "dest_path='/content/spectrograms6sec'\n",
        "\n",
        "for genre in genre_list:\n",
        "  os.mkdir(f'/content/spectrograms6sec/{genre}')"
      ],
      "metadata": {
        "id": "OSwsFLRGfNcA"
      },
      "execution_count": null,
      "outputs": []
    },
    {
      "cell_type": "code",
      "source": [
        "# importing shutil module\n",
        "import shutil\n",
        "\n",
        "#no of samples per class\n",
        "n=3000\n",
        "cnt=0\n",
        "\n",
        "random.seed(123)\n",
        "\n",
        "for genre in genre_list:\n",
        "  genre_path=os.path.join(spec_path,genre)\n",
        "  dest_genre_path=os.path.join(dest_path,genre)\n",
        "\n",
        "  #shuffling and selecting 3000 samples\n",
        "  genre_songs=os.listdir(genre_path)\n",
        "  random.shuffle(genre_songs)\n",
        "  selected_spec=genre_songs[:n]\n",
        "  \n",
        "  for song in selected_spec:\n",
        "      source=os.path.join(genre_path,song)\n",
        "      dest=os.path.join(dest_genre_path,song)\n",
        "      d= shutil.copyfile(source, dest)\n",
        "  # with alive_bar(3000, ctrl_c=False, title=f'Copying:{genre}') as bar:\n",
        "  #   for song in selected_spec:\n",
        "  #     source=os.path.join(genre_path,song)\n",
        "  #     dest=os.path.join(dest_genre_path,song)\n",
        "  #     d= shutil.copyfile(source, dest)\n",
        "  #     bar()"
      ],
      "metadata": {
        "id": "7nlz_8iugy2O"
      },
      "execution_count": null,
      "outputs": []
    },
    {
      "cell_type": "code",
      "source": [
        "import pathlib\n",
        "\n",
        "data_dir=pathlib.Path(dest_path)\n",
        "data_dir"
      ],
      "metadata": {
        "id": "oQgkeaZWcnnZ"
      },
      "execution_count": null,
      "outputs": []
    },
    {
      "cell_type": "code",
      "source": [
        "#adding dataset\n",
        "batch_size=64\n",
        "image_height=300\n",
        "image_width=600"
      ],
      "metadata": {
        "id": "gugwHulPRfHq"
      },
      "execution_count": null,
      "outputs": []
    },
    {
      "cell_type": "code",
      "source": [
        "train_ds = tf.keras.utils.image_dataset_from_directory(\n",
        "  data_dir,\n",
        "  validation_split=0.2,\n",
        "  subset=\"training\",\n",
        "  seed=123,\n",
        "  image_size=(image_height, image_width),\n",
        "  batch_size=batch_size)"
      ],
      "metadata": {
        "id": "Xs99ovEhXHXJ"
      },
      "execution_count": null,
      "outputs": []
    },
    {
      "cell_type": "code",
      "source": [
        "val_ds = tf.keras.utils.image_dataset_from_directory(\n",
        "  data_dir,\n",
        "  validation_split=0.2,\n",
        "  subset=\"validation\",\n",
        "  seed=123,\n",
        "  image_size=(image_height, image_width),\n",
        "  batch_size=batch_size)\n"
      ],
      "metadata": {
        "id": "zcmixKbhR81D"
      },
      "execution_count": null,
      "outputs": []
    },
    {
      "cell_type": "markdown",
      "source": [
        "# KNN"
      ],
      "metadata": {
        "id": "QjXixlNCzzKM"
      }
    },
    {
      "cell_type": "code",
      "source": [
        "# Ayushmaan stuff DON'T TOUCH\n",
        "# A5 madarchod why'd you touch my stuff\n",
        "\n",
        "\n"
      ],
      "metadata": {
        "id": "13yGllStr_qa"
      },
      "execution_count": null,
      "outputs": []
    },
    {
      "cell_type": "markdown",
      "source": [
        "# SVM"
      ],
      "metadata": {
        "id": "kj04ILZTOSya"
      }
    },
    {
      "cell_type": "code",
      "source": [
        "class_names = train_ds.class_names\n",
        "print(class_names)"
      ],
      "metadata": {
        "id": "ydoxZ5MFxaG4"
      },
      "execution_count": null,
      "outputs": []
    },
    {
      "cell_type": "code",
      "source": [
        "#ayush stuff\n",
        "import matplotlib.pyplot as plt\n",
        "\n",
        "plt.figure(figsize=(45, 15))\n",
        "for images, labels in train_ds.take(1):\n",
        "  for i in range(9):\n",
        "    ax = plt.subplot(3, 3, i + 1)\n",
        "    plt.imshow(images[i].numpy().astype(\"uint8\"))\n",
        "    plt.title(class_names[labels[i]])\n",
        "    plt.axis(\"off\")\n"
      ],
      "metadata": {
        "id": "X-yG8Q9WsCDi"
      },
      "execution_count": null,
      "outputs": []
    },
    {
      "cell_type": "code",
      "source": [
        "for image_batch, labels_batch in train_ds:\n",
        "  print(image_batch.shape)\n",
        "  print(labels_batch.shape)\n",
        "  break"
      ],
      "metadata": {
        "id": "E_KpfgQd5MJk"
      },
      "execution_count": null,
      "outputs": []
    },
    {
      "cell_type": "code",
      "source": [
        "normalization_layer = tf.keras.layers.Rescaling(1./255)\n",
        "normalized_ds = train_ds.map(lambda x, y: (normalization_layer(x), y))\n",
        "image_batch, labels_batch = next(iter(normalized_ds))\n",
        "first_image = image_batch[0]\n",
        "# Notice the pixel values are now in `[0,1]`.\n",
        "print(np.min(first_image), np.max(first_image))"
      ],
      "metadata": {
        "id": "4hxfttd95voe"
      },
      "execution_count": null,
      "outputs": []
    },
    {
      "cell_type": "code",
      "source": [
        "AUTOTUNE = tf.data.AUTOTUNE\n",
        "\n",
        "train_ds = train_ds.cache().prefetch(buffer_size=AUTOTUNE)\n",
        "val_ds = val_ds.cache().prefetch(buffer_size=AUTOTUNE)"
      ],
      "metadata": {
        "id": "GmooKDxb6S2W"
      },
      "execution_count": null,
      "outputs": []
    },
    {
      "cell_type": "code",
      "source": [
        "num_classes = 10\n",
        "\n",
        "model = tf.keras.Sequential([\n",
        "  tf.keras.layers.Rescaling(1./255),\n",
        "  tf.keras.layers.Conv2D(32, 3, activation='relu'),\n",
        "  tf.keras.layers.MaxPooling2D(),\n",
        "  tf.keras.layers.Conv2D(32, 3, activation='relu'),\n",
        "  tf.keras.layers.MaxPooling2D(),\n",
        "  tf.keras.layers.Conv2D(32, 3, activation='relu'),\n",
        "  tf.keras.layers.MaxPooling2D(),\n",
        "  tf.keras.layers.Flatten(),\n",
        "  tf.keras.layers.Dense(128, activation='relu'),\n",
        "  tf.keras.layers.Dense(num_classes)\n",
        "])"
      ],
      "metadata": {
        "id": "gdwZ_RkC6Sz6"
      },
      "execution_count": null,
      "outputs": []
    },
    {
      "cell_type": "code",
      "source": [
        "model.compile(\n",
        "  optimizer='adam',\n",
        "  loss=tf.keras.losses.SparseCategoricalCrossentropy(from_logits=True),\n",
        "  metrics=['accuracy'])"
      ],
      "metadata": {
        "id": "xIrxXLIS6Sxn"
      },
      "execution_count": null,
      "outputs": []
    },
    {
      "cell_type": "code",
      "source": [
        "model.summary()"
      ],
      "metadata": {
        "id": "BZx2GKNqvbT8"
      },
      "execution_count": null,
      "outputs": []
    },
    {
      "cell_type": "code",
      "source": [
        "model.fit(\n",
        "  train_ds,\n",
        "  validation_data=val_ds,\n",
        "  epochs=5\n",
        ")"
      ],
      "metadata": {
        "id": "vj6O-SnK6SvR"
      },
      "execution_count": null,
      "outputs": []
    },
    {
      "cell_type": "markdown",
      "source": [
        "# Maddys cnn code\n",
        "Anyone can touch if they want to"
      ],
      "metadata": {
        "id": "-LqmN5pB4Jqk"
      }
    },
    {
      "cell_type": "code",
      "source": [
        "from tensorflow.keras.models import Sequential\n",
        "from tensorflow.keras.layers import Conv2D, MaxPooling2D, Dense, Flatten, Dropout, BatchNormalization"
      ],
      "metadata": {
        "id": "faq13q4F61vX"
      },
      "execution_count": null,
      "outputs": []
    },
    {
      "cell_type": "code",
      "source": [
        "model = Sequential()"
      ],
      "metadata": {
        "id": "wwg5Cs9J61oB"
      },
      "execution_count": null,
      "outputs": []
    },
    {
      "cell_type": "code",
      "source": [
        "# 16 - number of filters\n",
        "# (3,3) - filter size\n",
        "# 1 - stride of filter\n",
        "# relu activation - converts negative numbers to 0 (rectified linear activation)\n",
        "model.add(Conv2D(16, (3,3), 1, activation='relu', input_shape=(256,256,3)))\n",
        "BatchNormalization()\n",
        "# condenses data \n",
        "model.add(MaxPooling2D())\n",
        "\n",
        "model.add(Conv2D(32, (3,3), 1, activation='relu' ))\n",
        "BatchNormalization()\n",
        "model.add(MaxPooling2D())\n",
        "\n",
        "model.add(Conv2D(16, (3,3), 1, activation='relu' ))\n",
        "BatchNormalization()\n",
        "model.add(MaxPooling2D())\n",
        "\n",
        "# condensing into single output\n",
        "model.add(Flatten())\n",
        "\n",
        "model.add(Dense(256, activation='relu'))\n",
        "BatchNormalization()\n",
        "model.add(Dropout(rate=0.2))\n",
        "# softmax activation - maps to a multiclass classification\n",
        "model.add(Dense(1, activation='softmax'))"
      ],
      "metadata": {
        "id": "nCgYrlMx6Ssv"
      },
      "execution_count": null,
      "outputs": []
    },
    {
      "cell_type": "code",
      "source": [
        "model.compile('adam',loss=tf.losses.BinaryCrossentropy(),metrics=['accuracy'])\n",
        "model.summary()"
      ],
      "metadata": {
        "id": "Kyu8150237nl"
      },
      "execution_count": null,
      "outputs": []
    },
    {
      "cell_type": "code",
      "source": [
        "logdir='logs'\n",
        "tensorboard_callback=tf.keras.callbacks.TensorBoard(log_dir=logdir)\n",
        "early = tf.keras.callbacks.EarlyStopping(monitor='val_accuracy', min_delta=0, patience=20, verbose=1, mode='auto')"
      ],
      "metadata": {
        "id": "nSvIIV0D4Aa0"
      },
      "execution_count": null,
      "outputs": []
    },
    {
      "cell_type": "code",
      "source": [
        "hist=model.fit(train_ds,epochs=100,validation_data=val,callbacks=[tensorboard_callback,early],class_weight=class_weights)"
      ],
      "metadata": {
        "id": "-Et9z1L_4BPM"
      },
      "execution_count": null,
      "outputs": []
    }
  ]
}