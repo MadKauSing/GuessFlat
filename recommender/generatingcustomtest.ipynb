{
 "cells": [
  {
   "cell_type": "code",
   "execution_count": 12,
   "metadata": {},
   "outputs": [],
   "source": [
    "import os\n",
    "import random\n",
    "import shutil"
   ]
  },
  {
   "cell_type": "code",
   "execution_count": 13,
   "metadata": {},
   "outputs": [
    {
     "data": {
      "text/plain": [
       "['indian_indie',\n",
       " 'hindustani_classical',\n",
       " 'classic_bollywood',\n",
       " 'carnatic',\n",
       " 'desi_pop',\n",
       " 'tamil_pop',\n",
       " 'punjabi_hip_hop',\n",
       " 'ghazal',\n",
       " 'sufi',\n",
       " 'bhojpuri_pop']"
      ]
     },
     "execution_count": 13,
     "metadata": {},
     "output_type": "execute_result"
    }
   ],
   "source": [
    "spec_path = 'content/spectrograms6sec'\n",
    "\n",
    "genre_list=os.listdir(spec_path)\n",
    "genre_list\n"
   ]
  },
  {
   "cell_type": "code",
   "execution_count": 14,
   "metadata": {},
   "outputs": [],
   "source": [
    "os.mkdir('content/testset')\n",
    "dest_path='content/testset'\n",
    "\n",
    "for genre in genre_list:\n",
    "  os.mkdir(f'content/testset/{genre}')"
   ]
  },
  {
   "cell_type": "code",
   "execution_count": 15,
   "metadata": {},
   "outputs": [],
   "source": [
    "n=20\n",
    "cnt=0\n",
    "\n",
    "random.seed(123)\n",
    "\n",
    "for genre in genre_list:\n",
    "  genre_path=os.path.join(spec_path,genre)\n",
    "  dest_genre_path=os.path.join(dest_path,genre)\n",
    "\n",
    "  #shuffling and selecting 3000 samples\n",
    "  genre_songs=os.listdir(genre_path)\n",
    "  random.shuffle(genre_songs)\n",
    "  selected_spec=genre_songs[:n]\n",
    "  \n",
    "  for song in selected_spec:\n",
    "      source=os.path.join(genre_path,song)\n",
    "      dest=os.path.join(dest_genre_path,song)\n",
    "      d= shutil.copyfile(source, dest)"
   ]
  },
  {
   "cell_type": "code",
   "execution_count": null,
   "metadata": {},
   "outputs": [],
   "source": [
    "# File of 20 spectrograms per genre for testing accuracy"
   ]
  },
  {
   "cell_type": "code",
   "execution_count": null,
   "metadata": {},
   "outputs": [],
   "source": []
  },
  {
   "cell_type": "code",
   "execution_count": null,
   "metadata": {},
   "outputs": [],
   "source": []
  },
  {
   "cell_type": "code",
   "execution_count": null,
   "metadata": {},
   "outputs": [],
   "source": []
  }
 ],
 "metadata": {
  "kernelspec": {
   "display_name": "Python 3.7.13 ('ai_ml_nn')",
   "language": "python",
   "name": "python3"
  },
  "language_info": {
   "codemirror_mode": {
    "name": "ipython",
    "version": 3
   },
   "file_extension": ".py",
   "mimetype": "text/x-python",
   "name": "python",
   "nbconvert_exporter": "python",
   "pygments_lexer": "ipython3",
   "version": "3.7.13"
  },
  "orig_nbformat": 4,
  "vscode": {
   "interpreter": {
    "hash": "75f149aabefc45f596bad3ecd1cce999665dc47c609d2b6ed1c0c06088326543"
   }
  }
 },
 "nbformat": 4,
 "nbformat_minor": 2
}
