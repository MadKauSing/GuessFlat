{
  "cells": [
    {
      "cell_type": "markdown",
      "metadata": {
        "colab_type": "text",
        "id": "view-in-github"
      },
      "source": [
        "<a href=\"https://colab.research.google.com/github/CoderCatA5/GuessFlat/blob/main/GuessFlat.ipynb\" target=\"_parent\"><img src=\"https://colab.research.google.com/assets/colab-badge.svg\" alt=\"Open In Colab\"/></a>"
      ]
    },
    {
      "cell_type": "markdown",
      "metadata": {
        "id": "pEW9vw8ORTNQ"
      },
      "source": [
        "# MADKAUSING GUESSFLAT\n",
        "```\n",
        "Ayush Singh          -PES2UG20C0S81\n",
        "Ayushmaan Kaushik    -PES2UG20CS082\n",
        "Bhavini Madhuranath  -PES2UG20CS088\n",
        "```\n",
        "\n",
        "### An indian music genre classifier\n"
      ]
    },
    {
      "cell_type": "markdown",
      "metadata": {
        "id": "_xjSp1B5NchF"
      },
      "source": [
        "# some exectued code we dont require\n",
        "```\n",
        "#linking google drive\n",
        "from google.colab import drive\n",
        "drive.mount('/content/drive')\n",
        "\n",
        "\n",
        "import os\n",
        "import pandas as pd\n",
        "import matplotlib\n",
        "import librosa\n",
        "import soundfile as sf\n",
        "import matplotlib.pyplot as plt\n",
        "import numpy as np\n",
        "import librosa.display\n",
        "\n",
        "os.getcwd()\n",
        "\n",
        "\n",
        "moozyc_path='/content/drive/MyDrive/moozyc'\n",
        "genre_list=os.listdir(moozyc_path)\n",
        "#genre_list\n",
        "\n",
        "\n",
        "data=[]\n",
        "for genre in genre_list:\n",
        "  genre_path='/'+genre\n",
        "  music_files=os.listdir(moozyc_path+genre_path)\n",
        "  music_files=[i  for i in music_files if i!='.spotdl-cache']\n",
        "  \n",
        "  #add each song to pandas df\n",
        "  for song in music_files:\n",
        "    song_path=moozyc_path+genre_path+'/'+song\n",
        "    data.append([song_path,song,genre])\n",
        "\n",
        "#creating pandas dataframe\n",
        "song_df=pd.DataFrame(data,columns=['file_path','song','genre'])\n",
        "song_df\n",
        "\n",
        "\n",
        "%rm -rf /content/spectrograms6sec\n",
        "\n",
        "os.mkdir('/content/spectrograms6sec')\n",
        "for genre in genre_list:\n",
        "  os.mkdir(f'/content/spectrograms6sec/{genre}')\n",
        "\n",
        "#making spectrograms save in file\n",
        "def save_spectrogram(block,sr,genre,song_name,counter):\n",
        "  matplotlib.use('Agg')\n",
        "  S = librosa.feature.melspectrogram(y=block, sr=sr, n_mels=128,fmax=8000)\n",
        "  plt.figure(figsize=(6, 3))\n",
        "  librosa.display.specshow(librosa.power_to_db(S,ref=np.max),y_axis='mel', fmax=8000,x_axis='time')\n",
        "  # plt.plot()\n",
        "  song_name=song_name.replace('.mp3','')\n",
        "  file_name=f'/content/spectrograms6sec/{genre}/'+song_name+str(counter)+'.png'\n",
        "  plt.savefig(file_name)\n",
        "\n",
        "\n",
        "def preprocess(file_name,song_name,genre):\n",
        "  # First load the file\n",
        "  audio, sr = librosa.load(file_name)\n",
        "  filename = file_name.replace(\".mp3\",\".wav\")\n",
        "\n",
        "  # Get number of samples for 6 seconds; replace 2 by any number\n",
        "  buffer = 6 * sr\n",
        "\n",
        "  samples_total = len(audio)\n",
        "  samples_wrote = 0\n",
        "  counter = 1\n",
        "\n",
        "  while samples_wrote < samples_total:\n",
        "      \n",
        "      #check if the buffer is not exceeding total samples \n",
        "      if buffer > (samples_total - samples_wrote):\n",
        "          buffer = samples_total - samples_wrote\n",
        "\n",
        "      block = audio[samples_wrote : (samples_wrote + buffer)]\n",
        "      out_filename = \"split_\" + str(counter) + \"_\" + filename\n",
        "\n",
        "      # Write 2 second segment\n",
        "      save_spectrogram(block,sr,genre,song_name,counter)\n",
        "      # sf.write('1.wav', block, sr, 'PCM_24')\n",
        "      counter += 1\n",
        "      samples_wrote += buffer\n",
        "      \n",
        "  \n",
        "    for index,row in song_df.iterrows():\n",
        "  preprocess(row[\"file_path\"],row[\"song\"],row[\"genre\"])\n",
        "  print(f\"{row['song']} done\")\n",
        "\n",
        "```"
      ]
    },
    {
      "cell_type": "code",
      "execution_count": null,
      "metadata": {
        "id": "fIaXghtmXLeW"
      },
      "outputs": [],
      "source": [
        "#IMPORTS put all here\n",
        "import random\n",
        "\n",
        "#tf imports for reading file\n",
        "import numpy as np\n",
        "import os\n",
        "import PIL\n",
        "\n",
        "import PIL.Image\n",
        "import tensorflow as tf\n",
        "import tensorflow_datasets as tfds\n",
        "\n",
        "#extras\n",
        "print(tf.__version__)"
      ]
    },
    {
      "cell_type": "markdown",
      "metadata": {
        "id": "vj_3TwGnziGG"
      },
      "source": [
        "*italicized text*#KNN"
      ]
    },
    {
      "cell_type": "code",
      "execution_count": null,
      "metadata": {
        "id": "d6AchxktOSgP"
      },
      "outputs": [],
      "source": [
        "#A5 stuff dont touch\n",
        "# from google.colab import drive\n",
        "# from alive_progress import alive_bar\n",
        "\n",
        "# drive.mount('/content/drive',force_remount=True)\n",
        "\n",
        "spec_path = 'content/spectrograms6sec'\n",
        "\n",
        "genre_list=os.listdir(spec_path)\n",
        "genre_list\n",
        "\n",
        "\n"
      ]
    },
    {
      "cell_type": "code",
      "execution_count": null,
      "metadata": {
        "id": "CI35GVWtoETH"
      },
      "outputs": [],
      "source": []
    },
    {
      "cell_type": "code",
      "execution_count": null,
      "metadata": {
        "id": "5xKAdxX0gk-i"
      },
      "outputs": [],
      "source": [
        "%rm -rf content/spectrograms6secnew"
      ]
    },
    {
      "cell_type": "code",
      "execution_count": null,
      "metadata": {
        "id": "OSwsFLRGfNcA"
      },
      "outputs": [],
      "source": [
        "os.mkdir('content/spectrograms6secnew')\n",
        "dest_path='content/spectrograms6secnew'\n",
        "\n",
        "for genre in genre_list:\n",
        "  os.mkdir(f'content/spectrograms6secnew/{genre}')"
      ]
    },
    {
      "cell_type": "code",
      "execution_count": null,
      "metadata": {
        "id": "7nlz_8iugy2O"
      },
      "outputs": [],
      "source": [
        "import shutil\n",
        "\n",
        "#no of samples per class\n",
        "n=3000\n",
        "cnt=0\n",
        "\n",
        "random.seed(123)\n",
        "\n",
        "for genre in genre_list:\n",
        "  genre_path=os.path.join(spec_path,genre)\n",
        "  dest_genre_path=os.path.join(dest_path,genre)\n",
        "\n",
        "  #shuffling and selecting 3000 samples\n",
        "  genre_songs=os.listdir(genre_path)\n",
        "  random.shuffle(genre_songs)\n",
        "  selected_spec=genre_songs[:n]\n",
        "  \n",
        "  for song in selected_spec:\n",
        "      source=os.path.join(genre_path,song)\n",
        "      dest=os.path.join(dest_genre_path,song)\n",
        "      d= shutil.copyfile(source, dest)\n",
        "\n",
        "\n"
      ]
    },
    {
      "cell_type": "code",
      "execution_count": null,
      "metadata": {
        "id": "oQgkeaZWcnnZ"
      },
      "outputs": [],
      "source": [
        "import pathlib\n",
        "\n",
        "data_dir=pathlib.Path(dest_path)\n",
        "data_dir"
      ]
    },
    {
      "cell_type": "code",
      "execution_count": null,
      "metadata": {
        "id": "gugwHulPRfHq"
      },
      "outputs": [],
      "source": [
        "#adding dataset\n",
        "batch_size=64\n",
        "image_height=75\n",
        "image_width=150\n"
      ]
    },
    {
      "cell_type": "code",
      "execution_count": null,
      "metadata": {
        "id": "Xs99ovEhXHXJ"
      },
      "outputs": [],
      "source": [
        "train_ds = tf.keras.utils.image_dataset_from_directory(\n",
        "  data_dir,\n",
        "  validation_split=0.2,\n",
        "  subset=\"training\",\n",
        "  seed=123,\n",
        "  image_size=(image_height, image_width),\n",
        "  batch_size=batch_size)"
      ]
    },
    {
      "cell_type": "code",
      "execution_count": null,
      "metadata": {
        "id": "zcmixKbhR81D"
      },
      "outputs": [],
      "source": [
        "val_ds = tf.keras.utils.image_dataset_from_directory(\n",
        "  data_dir,\n",
        "  validation_split=0.2,\n",
        "  subset=\"validation\",\n",
        "  seed=123,\n",
        "  image_size=(image_height, image_width),\n",
        "  batch_size=batch_size)\n"
      ]
    },
    {
      "cell_type": "code",
      "execution_count": null,
      "metadata": {},
      "outputs": [],
      "source": [
        "class_names = train_ds.class_names\n",
        "print(class_names)\n",
        "\n",
        "import matplotlib.pyplot as plt\n",
        "\n",
        "plt.figure(figsize=(45, 15))\n",
        "for images, labels in train_ds.take(1):\n",
        "  for i in range(9):\n",
        "    ax = plt.subplot(3, 3, i + 1)\n",
        "    plt.imshow(images[i].numpy().astype(\"uint8\"))\n",
        "    plt.title(class_names[labels[i]])\n",
        "    plt.axis(\"off\")\n"
      ]
    },
    {
      "cell_type": "code",
      "execution_count": null,
      "metadata": {},
      "outputs": [],
      "source": [
        "for image_batch, labels_batch in train_ds:\n",
        "  print(image_batch.shape)\n",
        "  print(labels_batch.shape)\n",
        "  break"
      ]
    },
    {
      "cell_type": "code",
      "execution_count": null,
      "metadata": {},
      "outputs": [],
      "source": [
        "normalization_layer = tf.keras.layers.Rescaling(1./255)\n",
        "normalized_ds = train_ds.map(lambda x, y: (normalization_layer(x), y))\n",
        "image_batch, labels_batch = next(iter(normalized_ds))\n",
        "first_image = image_batch[0]\n",
        "# Notice the pixel values are now in `[0,1]`.\n",
        "print(np.min(first_image), np.max(first_image))"
      ]
    },
    {
      "cell_type": "code",
      "execution_count": null,
      "metadata": {},
      "outputs": [],
      "source": [
        "AUTOTUNE = tf.data.AUTOTUNE\n",
        "\n",
        "train_ds = train_ds.cache().prefetch(buffer_size=AUTOTUNE)\n",
        "val_ds = val_ds.cache().prefetch(buffer_size=AUTOTUNE)"
      ]
    },
    {
      "cell_type": "code",
      "execution_count": null,
      "metadata": {},
      "outputs": [],
      "source": [
        "\n",
        "from tensorflow.keras.models import Sequential\n",
        "from tensorflow.keras.layers import Conv2D, MaxPooling2D, Dense, Flatten, Dropout, BatchNormalization"
      ]
    },
    {
      "cell_type": "markdown",
      "metadata": {},
      "source": []
    },
    {
      "cell_type": "code",
      "execution_count": null,
      "metadata": {},
      "outputs": [],
      "source": []
    },
    {
      "cell_type": "code",
      "execution_count": null,
      "metadata": {},
      "outputs": [],
      "source": [
        "model = Sequential()"
      ]
    },
    {
      "cell_type": "code",
      "execution_count": null,
      "metadata": {},
      "outputs": [],
      "source": [
        "num_classes = 10\n",
        "\n",
        "# 16 - number of filters\n",
        "# (3,3) - filter size\n",
        "# 1 - stride of filter\n",
        "# relu activation - converts negative numbers to 0 (rectified linear activation)\n",
        "model.add(Conv2D(16, (3,3), 1, activation='relu', input_shape=(75,150,3)))\n",
        "BatchNormalization()\n",
        "# condenses data \n",
        "model.add(MaxPooling2D())\n",
        "\n",
        "model.add(Conv2D(32, (3,3), 1, activation='relu' ))\n",
        "BatchNormalization()\n",
        "model.add(MaxPooling2D())\n",
        "\n",
        "model.add(Conv2D(16, (3,3), 1, activation='relu' ))\n",
        "BatchNormalization()\n",
        "model.add(MaxPooling2D())\n",
        "\n",
        "# condensing into single output\n",
        "model.add(Flatten())\n",
        "\n",
        "model.add(Dense(256, activation='relu'))\n",
        "BatchNormalization()\n",
        "model.add(Dropout(rate=0.2))\n",
        "# softmax activation - maps to a multiclass classification\n",
        "model.add(Dense(1, activation='softmax'))"
      ]
    },
    {
      "cell_type": "code",
      "execution_count": null,
      "metadata": {},
      "outputs": [],
      "source": [
        "model.compile('adam',loss=tf.losses.BinaryCrossentropy(),metrics=['accuracy'])\n",
        "model.summary()"
      ]
    },
    {
      "cell_type": "code",
      "execution_count": null,
      "metadata": {},
      "outputs": [],
      "source": []
    },
    {
      "cell_type": "code",
      "execution_count": null,
      "metadata": {},
      "outputs": [],
      "source": [
        "logdir='logs'\n",
        "tensorboard_callback=tf.keras.callbacks.TensorBoard(log_dir=logdir)\n",
        "early = tf.keras.callbacks.EarlyStopping(monitor='val_accuracy', min_delta=0, patience=20, verbose=1, mode='auto')"
      ]
    },
    {
      "cell_type": "code",
      "execution_count": null,
      "metadata": {},
      "outputs": [],
      "source": [
        "hist=model.fit(train_ds,epochs=100,validation_data=val_ds,callbacks=[tensorboard_callback,early])"
      ]
    },
    {
      "cell_type": "code",
      "execution_count": null,
      "metadata": {},
      "outputs": [],
      "source": []
    },
    {
      "cell_type": "code",
      "execution_count": null,
      "metadata": {},
      "outputs": [],
      "source": []
    },
    {
      "cell_type": "markdown",
      "metadata": {
        "id": "QjXixlNCzzKM"
      },
      "source": [
        "# KNN"
      ]
    },
    {
      "cell_type": "code",
      "execution_count": null,
      "metadata": {
        "id": "13yGllStr_qa"
      },
      "outputs": [],
      "source": [
        "#ayushmaan stuff"
      ]
    },
    {
      "cell_type": "markdown",
      "metadata": {
        "id": "kj04ILZTOSya"
      },
      "source": [
        "# SVM"
      ]
    },
    {
      "cell_type": "code",
      "execution_count": null,
      "metadata": {
        "id": "X-yG8Q9WsCDi"
      },
      "outputs": [],
      "source": [
        "#ayush stuff"
      ]
    }
  ],
  "metadata": {
    "accelerator": "TPU",
    "colab": {
      "collapsed_sections": [],
      "include_colab_link": true,
      "private_outputs": true,
      "provenance": []
    },
    "kernelspec": {
      "display_name": "Python 3.7.13 ('ai_ml_nn')",
      "language": "python",
      "name": "python3"
    },
    "language_info": {
      "codemirror_mode": {
        "name": "ipython",
        "version": 3
      },
      "file_extension": ".py",
      "mimetype": "text/x-python",
      "name": "python",
      "nbconvert_exporter": "python",
      "pygments_lexer": "ipython3",
      "version": "3.7.13"
    },
    "vscode": {
      "interpreter": {
        "hash": "75f149aabefc45f596bad3ecd1cce999665dc47c609d2b6ed1c0c06088326543"
      }
    }
  },
  "nbformat": 4,
  "nbformat_minor": 0
}
