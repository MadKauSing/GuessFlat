{
  "nbformat": 4,
  "nbformat_minor": 0,
  "metadata": {
    "colab": {
      "provenance": [],
      "collapsed_sections": [],
      "private_outputs": true,
      "include_colab_link": true
    },
    "kernelspec": {
      "name": "python3",
      "display_name": "Python 3"
    },
    "language_info": {
      "name": "python"
    },
    "accelerator": "TPU"
  },
  "cells": [
    {
      "cell_type": "markdown",
      "metadata": {
        "id": "view-in-github",
        "colab_type": "text"
      },
      "source": [
        "<a href=\"https://colab.research.google.com/github/CoderCatA5/GuessFlat/blob/main/GuessFlat.ipynb\" target=\"_parent\"><img src=\"https://colab.research.google.com/assets/colab-badge.svg\" alt=\"Open In Colab\"/></a>"
      ]
    },
    {
      "cell_type": "markdown",
      "source": [
        "# MADKAUSING GUESSFLAT\n",
        "```\n",
        "Ayush Singh          -PES2UG20C0S81\n",
        "Ayushmaan Kaushik    -PES2UG20CS082\n",
        "Bhavini Madhuranath  -PES2UG20CS088\n",
        "```\n",
        "\n",
        "### An indian music genre classifier\n"
      ],
      "metadata": {
        "id": "pEW9vw8ORTNQ"
      }
    },
    {
      "cell_type": "markdown",
      "source": [
        "# some exectued code we dont require\n",
        "```\n",
        "#linking google drive\n",
        "from google.colab import drive\n",
        "drive.mount('/content/drive')\n",
        "\n",
        "\n",
        "import os\n",
        "import pandas as pd\n",
        "import matplotlib\n",
        "import librosa\n",
        "import soundfile as sf\n",
        "import matplotlib.pyplot as plt\n",
        "import numpy as np\n",
        "import librosa.display\n",
        "\n",
        "os.getcwd()\n",
        "\n",
        "\n",
        "moozyc_path='/content/drive/MyDrive/moozyc'\n",
        "genre_list=os.listdir(moozyc_path)\n",
        "#genre_list\n",
        "\n",
        "\n",
        "data=[]\n",
        "for genre in genre_list:\n",
        "  genre_path='/'+genre\n",
        "  music_files=os.listdir(moozyc_path+genre_path)\n",
        "  music_files=[i  for i in music_files if i!='.spotdl-cache']\n",
        "  \n",
        "  #add each song to pandas df\n",
        "  for song in music_files:\n",
        "    song_path=moozyc_path+genre_path+'/'+song\n",
        "    data.append([song_path,song,genre])\n",
        "\n",
        "#creating pandas dataframe\n",
        "song_df=pd.DataFrame(data,columns=['file_path','song','genre'])\n",
        "song_df\n",
        "\n",
        "\n",
        "%rm -rf /content/spectrograms6sec\n",
        "\n",
        "os.mkdir('/content/spectrograms6sec')\n",
        "for genre in genre_list:\n",
        "  os.mkdir(f'/content/spectrograms6sec/{genre}')\n",
        "\n",
        "#making spectrograms save in file\n",
        "def save_spectrogram(block,sr,genre,song_name,counter):\n",
        "  matplotlib.use('Agg')\n",
        "  S = librosa.feature.melspectrogram(y=block, sr=sr, n_mels=128,fmax=8000)\n",
        "  plt.figure(figsize=(6, 3))\n",
        "  librosa.display.specshow(librosa.power_to_db(S,ref=np.max),y_axis='mel', fmax=8000,x_axis='time')\n",
        "  # plt.plot()\n",
        "  song_name=song_name.replace('.mp3','')\n",
        "  file_name=f'/content/spectrograms6sec/{genre}/'+song_name+str(counter)+'.png'\n",
        "  plt.savefig(file_name)\n",
        "\n",
        "\n",
        "def preprocess(file_name,song_name,genre):\n",
        "  # First load the file\n",
        "  audio, sr = librosa.load(file_name)\n",
        "  filename = file_name.replace(\".mp3\",\".wav\")\n",
        "\n",
        "  # Get number of samples for 6 seconds; replace 2 by any number\n",
        "  buffer = 6 * sr\n",
        "\n",
        "  samples_total = len(audio)\n",
        "  samples_wrote = 0\n",
        "  counter = 1\n",
        "\n",
        "  while samples_wrote < samples_total:\n",
        "      \n",
        "      #check if the buffer is not exceeding total samples \n",
        "      if buffer > (samples_total - samples_wrote):\n",
        "          buffer = samples_total - samples_wrote\n",
        "\n",
        "      block = audio[samples_wrote : (samples_wrote + buffer)]\n",
        "      out_filename = \"split_\" + str(counter) + \"_\" + filename\n",
        "\n",
        "      # Write 2 second segment\n",
        "      save_spectrogram(block,sr,genre,song_name,counter)\n",
        "      # sf.write('1.wav', block, sr, 'PCM_24')\n",
        "      counter += 1\n",
        "      samples_wrote += buffer\n",
        "      \n",
        "  \n",
        "    for index,row in song_df.iterrows():\n",
        "  preprocess(row[\"file_path\"],row[\"song\"],row[\"genre\"])\n",
        "  print(f\"{row['song']} done\")\n",
        "\n",
        "```"
      ],
      "metadata": {
        "id": "_xjSp1B5NchF"
      }
    },
    {
      "cell_type": "code",
      "source": [
        "#IMPORTS put all here\n",
        "import random\n",
        "\n",
        "#tf imports for reading file\n",
        "import numpy as np\n",
        "import os\n",
        "import PIL\n",
        "\n",
        "import PIL.Image\n",
        "import tensorflow as tf\n",
        "import tensorflow_datasets as tfds\n",
        "\n",
        "#extras\n",
        "print(tf.__version__)"
      ],
      "metadata": {
        "id": "fIaXghtmXLeW"
      },
      "execution_count": null,
      "outputs": []
    },
    {
      "cell_type": "markdown",
      "source": [
        "*italicized text*#KNN"
      ],
      "metadata": {
        "id": "vj_3TwGnziGG"
      }
    },
    {
      "cell_type": "code",
      "source": [
        "#A5 stuff dont touch\n",
        "from google.colab import drive\n",
        "from alive_progress import alive_bar\n",
        "\n",
        "drive.mount('/content/drive',force_remount=True)\n",
        "\n",
        "spec_path = '/content/drive/MyDrive/spectrograms6sec'\n",
        "\n",
        "genre_list=os.listdir(spec_path)\n",
        "genre_list\n",
        "\n",
        "\n"
      ],
      "metadata": {
        "id": "d6AchxktOSgP"
      },
      "execution_count": null,
      "outputs": []
    },
    {
      "cell_type": "code",
      "source": [
        "!pip install alive_progress"
      ],
      "metadata": {
        "id": "CI35GVWtoETH"
      },
      "execution_count": null,
      "outputs": []
    },
    {
      "cell_type": "code",
      "source": [
        "%rm -rf /content/spectrograms6sec"
      ],
      "metadata": {
        "id": "5xKAdxX0gk-i"
      },
      "execution_count": null,
      "outputs": []
    },
    {
      "cell_type": "code",
      "source": [
        "os.mkdir('/content/spectrograms6sec')\n",
        "dest_path='/content/spectrograms6sec'\n",
        "\n",
        "for genre in genre_list:\n",
        "  os.mkdir(f'/content/spectrograms6sec/{genre}')"
      ],
      "metadata": {
        "id": "OSwsFLRGfNcA"
      },
      "execution_count": null,
      "outputs": []
    },
    {
      "cell_type": "code",
      "source": [
        "# importing shutil module\n",
        "import shutil\n",
        "\n",
        "#no of samples per class\n",
        "n=3000\n",
        "cnt=0\n",
        "\n",
        "random.seed(123)\n",
        "\n",
        "for genre in genre_list:\n",
        "  genre_path=os.path.join(spec_path,genre)\n",
        "  dest_genre_path=os.path.join(dest_path,genre)\n",
        "\n",
        "  #shuffling and selecting 3000 samples\n",
        "  genre_songs=os.listdir(genre_path)\n",
        "  random.shuffle(genre_songs)\n",
        "  selected_spec=genre_songs[:n]\n",
        "\n",
        "  with alive_bar(3000, ctrl_c=False, title=f'Copying:{genre} ') as bar:\n",
        "    for song in selected_spec:\n",
        "      source=os.path.join(genre_path,song)\n",
        "      dest=os.path.join(dest_genre_path,song)\n",
        "      d= shutil.copyfile(source, dest)\n",
        "      bar()\n",
        "      \n",
        "\n",
        "\n"
      ],
      "metadata": {
        "id": "7nlz_8iugy2O"
      },
      "execution_count": null,
      "outputs": []
    },
    {
      "cell_type": "code",
      "source": [
        "import pathlib\n",
        "\n",
        "data_dir=pathlib.Path(dest_path)\n",
        "data_dir"
      ],
      "metadata": {
        "id": "oQgkeaZWcnnZ"
      },
      "execution_count": null,
      "outputs": []
    },
    {
      "cell_type": "code",
      "source": [
        "#adding dataset\n",
        "batch_size=50\n",
        "image_height=300\n",
        "image_width=600\n"
      ],
      "metadata": {
        "id": "gugwHulPRfHq"
      },
      "execution_count": null,
      "outputs": []
    },
    {
      "cell_type": "code",
      "source": [
        "train_ds = tf.keras.utils.image_dataset_from_directory(\n",
        "  data_dir,\n",
        "  validation_split=0.2,\n",
        "  subset=\"training\",\n",
        "  seed=123,\n",
        "  image_size=(image_height, image_width),\n",
        "  batch_size=batch_size)"
      ],
      "metadata": {
        "id": "Xs99ovEhXHXJ"
      },
      "execution_count": null,
      "outputs": []
    },
    {
      "cell_type": "code",
      "source": [
        "val_ds = tf.keras.utils.image_dataset_from_directory(\n",
        "  data_dir,\n",
        "  validation_split=0.2,\n",
        "  subset=\"validation\",\n",
        "  seed=123,\n",
        "  image_size=(image_height, image_width),\n",
        "  batch_size=batch_size)\n"
      ],
      "metadata": {
        "id": "zcmixKbhR81D"
      },
      "execution_count": null,
      "outputs": []
    },
    {
      "cell_type": "markdown",
      "source": [
        "# KNN"
      ],
      "metadata": {
        "id": "QjXixlNCzzKM"
      }
    },
    {
      "cell_type": "code",
      "source": [
        "#ayushmaan stuff"
      ],
      "metadata": {
        "id": "13yGllStr_qa"
      },
      "execution_count": null,
      "outputs": []
    },
    {
      "cell_type": "markdown",
      "source": [
        "# SVM"
      ],
      "metadata": {
        "id": "kj04ILZTOSya"
      }
    },
    {
      "cell_type": "code",
      "source": [
        "#ayush stuff"
      ],
      "metadata": {
        "id": "X-yG8Q9WsCDi"
      },
      "execution_count": null,
      "outputs": []
    }
  ]
}