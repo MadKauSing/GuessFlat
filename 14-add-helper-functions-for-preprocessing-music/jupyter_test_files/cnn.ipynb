{
 "cells": [
  {
   "cell_type": "code",
   "execution_count": null,
   "metadata": {},
   "outputs": [],
   "source": [
    "import os   # file manipulation\n",
    "import shutil   # file manipulation\n",
    "import matplotlib.pyplot as plt # labelling plots\n",
    "import tensorflow as tf # model training\n"
   ]
  },
  {
   "cell_type": "code",
   "execution_count": null,
   "metadata": {},
   "outputs": [],
   "source": [
    "\n",
    "from tensorflow.keras.models import Sequential\n",
    "from tensorflow.keras.layers import Conv2D, MaxPooling2D, Dense, Flatten, Dropout, BatchNormalization"
   ]
  },
  {
   "cell_type": "code",
   "execution_count": null,
   "metadata": {},
   "outputs": [],
   "source": [
    "model = Sequential()"
   ]
  },
  {
   "cell_type": "code",
   "execution_count": null,
   "metadata": {},
   "outputs": [],
   "source": [
    "# 16 - number of filters\n",
    "# (3,3) - filter size\n",
    "# 1 - stride of filter\n",
    "# relu activation - converts negative numbers to 0 (rectified linear activation)\n",
    "model.add(Conv2D(16, (3,3), 1, activation='relu', input_shape=(256,256,3)))\n",
    "BatchNormalization()\n",
    "# condenses data \n",
    "model.add(MaxPooling2D())\n",
    "\n",
    "model.add(Conv2D(32, (3,3), 1, activation='relu' ))\n",
    "BatchNormalization()\n",
    "model.add(MaxPooling2D())\n",
    "\n",
    "model.add(Conv2D(16, (3,3), 1, activation='relu' ))\n",
    "BatchNormalization()\n",
    "model.add(MaxPooling2D())\n",
    "\n",
    "# condensing into single output\n",
    "model.add(Flatten())\n",
    "\n",
    "model.add(Dense(256, activation='relu'))\n",
    "BatchNormalization()\n",
    "model.add(Dropout(rate=0.2))\n",
    "# softmax activation - maps to a multiclass classification\n",
    "model.add(Dense(1, activation='softmax'))"
   ]
  },
  {
   "cell_type": "code",
   "execution_count": null,
   "metadata": {},
   "outputs": [
    {
     "name": "stdout",
     "output_type": "stream",
     "text": [
      "Model: \"sequential_3\"\n",
      "_________________________________________________________________\n",
      " Layer (type)                Output Shape              Param #   \n",
      "=================================================================\n",
      " conv2d_4 (Conv2D)           (None, 254, 254, 16)      448       \n",
      "                                                                 \n",
      " max_pooling2d_4 (MaxPooling  (None, 127, 127, 16)     0         \n",
      " 2D)                                                             \n",
      "                                                                 \n",
      " conv2d_5 (Conv2D)           (None, 125, 125, 32)      4640      \n",
      "                                                                 \n",
      " max_pooling2d_5 (MaxPooling  (None, 62, 62, 32)       0         \n",
      " 2D)                                                             \n",
      "                                                                 \n",
      " conv2d_6 (Conv2D)           (None, 60, 60, 16)        4624      \n",
      "                                                                 \n",
      " max_pooling2d_6 (MaxPooling  (None, 30, 30, 16)       0         \n",
      " 2D)                                                             \n",
      "                                                                 \n",
      " flatten_2 (Flatten)         (None, 14400)             0         \n",
      "                                                                 \n",
      " dense_4 (Dense)             (None, 256)               3686656   \n",
      "                                                                 \n",
      " dropout_2 (Dropout)         (None, 256)               0         \n",
      "                                                                 \n",
      " dense_5 (Dense)             (None, 1)                 257       \n",
      "                                                                 \n",
      "=================================================================\n",
      "Total params: 3,696,625\n",
      "Trainable params: 3,696,625\n",
      "Non-trainable params: 0\n",
      "_________________________________________________________________\n"
     ]
    }
   ],
   "source": [
    "model.compile('adam',loss=tf.losses.BinaryCrossentropy(),metrics=['accuracy'])\n",
    "model.summary()"
   ]
  },
  {
   "cell_type": "code",
   "execution_count": null,
   "metadata": {},
   "outputs": [],
   "source": [
    "logdir='logs'\n",
    "tensorboard_callback=tf.keras.callbacks.TensorBoard(log_dir=logdir)\n",
    "early = tf.keras.callbacks.EarlyStopping(monitor='val_accuracy', min_delta=0, patience=20, verbose=1, mode='auto')"
   ]
  },
  {
   "cell_type": "code",
   "execution_count": null,
   "metadata": {},
   "outputs": [
    {
     "name": "stdout",
     "output_type": "stream",
     "text": [
      "Epoch 1/100\n",
      "60/60 [==============================] - 62s 948ms/step - loss: 0.6528 - accuracy: 0.6615 - val_loss: 0.6676 - val_accuracy: 0.6047\n",
      "Epoch 2/100\n",
      "60/60 [==============================] - 60s 929ms/step - loss: 0.6158 - accuracy: 0.6776 - val_loss: 0.5579 - val_accuracy: 0.7453\n",
      "Epoch 3/100\n",
      "60/60 [==============================] - 61s 941ms/step - loss: 0.6151 - accuracy: 0.6979 - val_loss: 0.4936 - val_accuracy: 0.7922\n",
      "Epoch 4/100\n",
      "60/60 [==============================] - 60s 922ms/step - loss: 0.5793 - accuracy: 0.7224 - val_loss: 0.6577 - val_accuracy: 0.6234\n",
      "Epoch 5/100\n",
      "60/60 [==============================] - 58s 898ms/step - loss: 0.6015 - accuracy: 0.6682 - val_loss: 0.5804 - val_accuracy: 0.7656\n",
      "Epoch 6/100\n",
      "60/60 [==============================] - 62s 971ms/step - loss: 0.5705 - accuracy: 0.7245 - val_loss: 0.7126 - val_accuracy: 0.5094\n",
      "Epoch 7/100\n",
      "60/60 [==============================] - 62s 960ms/step - loss: 0.5514 - accuracy: 0.7099 - val_loss: 0.5803 - val_accuracy: 0.6750\n",
      "Epoch 8/100\n",
      "60/60 [==============================] - 62s 958ms/step - loss: 0.5393 - accuracy: 0.7255 - val_loss: 0.5151 - val_accuracy: 0.7109\n",
      "Epoch 9/100\n",
      "60/60 [==============================] - 59s 923ms/step - loss: 0.5479 - accuracy: 0.7203 - val_loss: 0.7157 - val_accuracy: 0.5328\n",
      "Epoch 10/100\n",
      "60/60 [==============================] - 59s 922ms/step - loss: 0.5496 - accuracy: 0.7260 - val_loss: 0.6201 - val_accuracy: 0.6578\n",
      "Epoch 11/100\n",
      "60/60 [==============================] - 59s 923ms/step - loss: 0.5071 - accuracy: 0.7339 - val_loss: 0.5170 - val_accuracy: 0.7281\n",
      "Epoch 12/100\n",
      "60/60 [==============================] - 60s 940ms/step - loss: 0.4990 - accuracy: 0.7474 - val_loss: 0.5628 - val_accuracy: 0.7063\n",
      "Epoch 13/100\n",
      "60/60 [==============================] - 60s 930ms/step - loss: 0.5292 - accuracy: 0.7115 - val_loss: 0.5752 - val_accuracy: 0.7359\n",
      "Epoch 14/100\n",
      "60/60 [==============================] - 59s 916ms/step - loss: 0.5100 - accuracy: 0.7458 - val_loss: 0.6990 - val_accuracy: 0.5500\n",
      "Epoch 15/100\n",
      "60/60 [==============================] - 60s 940ms/step - loss: 0.4884 - accuracy: 0.7557 - val_loss: 0.4829 - val_accuracy: 0.7516\n",
      "Epoch 16/100\n",
      "60/60 [==============================] - 59s 922ms/step - loss: 0.4791 - accuracy: 0.7552 - val_loss: 0.6683 - val_accuracy: 0.6297\n",
      "Epoch 17/100\n",
      "60/60 [==============================] - 59s 924ms/step - loss: 0.4795 - accuracy: 0.7609 - val_loss: 0.8259 - val_accuracy: 0.5500\n",
      "Epoch 18/100\n",
      "60/60 [==============================] - 59s 917ms/step - loss: 0.4564 - accuracy: 0.7828 - val_loss: 0.6144 - val_accuracy: 0.6797\n",
      "Epoch 19/100\n",
      "60/60 [==============================] - 59s 916ms/step - loss: 0.4499 - accuracy: 0.7667 - val_loss: 0.6364 - val_accuracy: 0.6391\n",
      "Epoch 20/100\n",
      "60/60 [==============================] - 59s 918ms/step - loss: 0.4333 - accuracy: 0.7740 - val_loss: 0.4985 - val_accuracy: 0.7563\n",
      "Epoch 21/100\n",
      "60/60 [==============================] - 59s 924ms/step - loss: 0.4185 - accuracy: 0.7964 - val_loss: 0.5738 - val_accuracy: 0.7000\n",
      "Epoch 22/100\n",
      "60/60 [==============================] - 59s 915ms/step - loss: 0.4243 - accuracy: 0.7849 - val_loss: 0.5486 - val_accuracy: 0.7422\n",
      "Epoch 23/100\n",
      "60/60 [==============================] - 58s 908ms/step - loss: 0.4223 - accuracy: 0.7880 - val_loss: 0.4185 - val_accuracy: 0.8141\n",
      "Epoch 24/100\n",
      "60/60 [==============================] - 58s 909ms/step - loss: 0.4110 - accuracy: 0.7833 - val_loss: 0.4537 - val_accuracy: 0.8047\n",
      "Epoch 25/100\n",
      "60/60 [==============================] - 58s 908ms/step - loss: 0.3869 - accuracy: 0.8125 - val_loss: 0.6152 - val_accuracy: 0.6875\n",
      "Epoch 26/100\n",
      "60/60 [==============================] - 62s 965ms/step - loss: 0.3774 - accuracy: 0.8208 - val_loss: 0.5399 - val_accuracy: 0.7266\n",
      "Epoch 27/100\n",
      "60/60 [==============================] - 60s 928ms/step - loss: 0.3443 - accuracy: 0.8328 - val_loss: 0.5012 - val_accuracy: 0.7578\n",
      "Epoch 28/100\n",
      "60/60 [==============================] - 59s 921ms/step - loss: 0.3269 - accuracy: 0.8411 - val_loss: 0.5629 - val_accuracy: 0.7078\n",
      "Epoch 29/100\n",
      "60/60 [==============================] - 59s 924ms/step - loss: 0.3980 - accuracy: 0.7979 - val_loss: 0.6115 - val_accuracy: 0.6828\n",
      "Epoch 30/100\n",
      "60/60 [==============================] - 59s 924ms/step - loss: 0.3370 - accuracy: 0.8339 - val_loss: 0.4617 - val_accuracy: 0.7828\n",
      "Epoch 31/100\n",
      "60/60 [==============================] - 60s 937ms/step - loss: 0.3142 - accuracy: 0.8521 - val_loss: 0.4725 - val_accuracy: 0.7937\n",
      "Epoch 32/100\n",
      "60/60 [==============================] - 60s 929ms/step - loss: 0.2938 - accuracy: 0.8630 - val_loss: 0.5696 - val_accuracy: 0.7406\n",
      "Epoch 33/100\n",
      "60/60 [==============================] - 57s 891ms/step - loss: 0.3164 - accuracy: 0.8500 - val_loss: 0.5244 - val_accuracy: 0.7437\n",
      "Epoch 34/100\n",
      "60/60 [==============================] - 57s 891ms/step - loss: 0.2722 - accuracy: 0.8687 - val_loss: 0.5550 - val_accuracy: 0.7531\n",
      "Epoch 35/100\n",
      "60/60 [==============================] - 59s 926ms/step - loss: 0.2303 - accuracy: 0.8917 - val_loss: 0.4590 - val_accuracy: 0.7922\n",
      "Epoch 36/100\n",
      "60/60 [==============================] - 58s 911ms/step - loss: 0.2313 - accuracy: 0.8964 - val_loss: 0.4337 - val_accuracy: 0.8266\n",
      "Epoch 37/100\n",
      "60/60 [==============================] - 58s 909ms/step - loss: 0.3122 - accuracy: 0.8526 - val_loss: 0.5328 - val_accuracy: 0.7563\n",
      "Epoch 38/100\n",
      "60/60 [==============================] - 57s 894ms/step - loss: 0.2532 - accuracy: 0.8792 - val_loss: 0.5614 - val_accuracy: 0.7375\n",
      "Epoch 39/100\n",
      "60/60 [==============================] - 57s 895ms/step - loss: 0.2098 - accuracy: 0.9047 - val_loss: 0.5436 - val_accuracy: 0.7688\n",
      "Epoch 40/100\n",
      "60/60 [==============================] - 57s 895ms/step - loss: 0.2154 - accuracy: 0.8901 - val_loss: 0.6731 - val_accuracy: 0.7250\n",
      "Epoch 41/100\n",
      "60/60 [==============================] - 58s 901ms/step - loss: 0.2214 - accuracy: 0.8958 - val_loss: 0.4942 - val_accuracy: 0.8047\n",
      "Epoch 42/100\n",
      "60/60 [==============================] - 58s 910ms/step - loss: 0.2004 - accuracy: 0.9135 - val_loss: 0.6848 - val_accuracy: 0.7078\n",
      "Epoch 43/100\n",
      "60/60 [==============================] - 57s 885ms/step - loss: 0.4587 - accuracy: 0.7745 - val_loss: 0.6495 - val_accuracy: 0.6859\n",
      "Epoch 44/100\n",
      "60/60 [==============================] - 56s 872ms/step - loss: 0.2806 - accuracy: 0.8682 - val_loss: 0.5639 - val_accuracy: 0.7875\n",
      "Epoch 45/100\n",
      "60/60 [==============================] - 56s 875ms/step - loss: 0.1813 - accuracy: 0.9193 - val_loss: 0.5845 - val_accuracy: 0.7875\n",
      "Epoch 46/100\n",
      "60/60 [==============================] - 56s 874ms/step - loss: 0.1488 - accuracy: 0.9328 - val_loss: 0.5938 - val_accuracy: 0.8016\n",
      "Epoch 47/100\n",
      "60/60 [==============================] - 57s 881ms/step - loss: 0.1386 - accuracy: 0.9396 - val_loss: 0.5468 - val_accuracy: 0.8109\n",
      "Epoch 48/100\n",
      "60/60 [==============================] - 55s 863ms/step - loss: 0.1365 - accuracy: 0.9438 - val_loss: 0.7106 - val_accuracy: 0.7375\n",
      "Epoch 49/100\n",
      "60/60 [==============================] - 55s 862ms/step - loss: 0.1294 - accuracy: 0.9443 - val_loss: 0.6006 - val_accuracy: 0.7891\n",
      "Epoch 50/100\n",
      "60/60 [==============================] - 58s 903ms/step - loss: 0.1111 - accuracy: 0.9536 - val_loss: 0.7092 - val_accuracy: 0.7891\n",
      "Epoch 51/100\n",
      "60/60 [==============================] - 56s 876ms/step - loss: 0.0974 - accuracy: 0.9589 - val_loss: 0.7428 - val_accuracy: 0.8047\n",
      "Epoch 52/100\n",
      "60/60 [==============================] - 57s 891ms/step - loss: 0.1063 - accuracy: 0.9578 - val_loss: 0.8094 - val_accuracy: 0.7719\n",
      "Epoch 53/100\n",
      "60/60 [==============================] - 57s 892ms/step - loss: 0.1095 - accuracy: 0.9568 - val_loss: 0.7238 - val_accuracy: 0.7641\n",
      "Epoch 54/100\n",
      "60/60 [==============================] - 57s 890ms/step - loss: 0.0818 - accuracy: 0.9703 - val_loss: 0.7506 - val_accuracy: 0.7844\n",
      "Epoch 55/100\n",
      "60/60 [==============================] - 56s 879ms/step - loss: 0.0926 - accuracy: 0.9646 - val_loss: 0.6566 - val_accuracy: 0.8109\n",
      "Epoch 56/100\n",
      "60/60 [==============================] - 59s 931ms/step - loss: 0.0651 - accuracy: 0.9766 - val_loss: 0.7247 - val_accuracy: 0.8047\n",
      "Epoch 56: early stopping\n"
     ]
    }
   ],
   "source": [
    "hist=model.fit(train,epochs=100,validation_data=val,callbacks=[tensorboard_callback,early],class_weight=class_weights)"
   ]
  }
 ],
 "metadata": {
  "kernelspec": {
   "display_name": "Python 3.10.4 64-bit",
   "language": "python",
   "name": "python3"
  },
  "language_info": {
   "name": "python",
   "version": "3.10.4"
  },
  "orig_nbformat": 4,
  "vscode": {
   "interpreter": {
    "hash": "6636ba45faffc219cae2b87741d963292a78c82ff95ce9fb53c4afc5b5891e1b"
   }
  }
 },
 "nbformat": 4,
 "nbformat_minor": 2
}
